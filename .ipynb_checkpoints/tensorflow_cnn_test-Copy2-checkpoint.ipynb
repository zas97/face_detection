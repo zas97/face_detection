{
 "cells": [
  {
   "cell_type": "markdown",
   "metadata": {},
   "source": [
    "# Increasing precision\n",
    "## data augmentation\n",
    "- flip\n",
    "- move\n",
    "- blur\n",
    "- brighten/darken\n",
    "\n",
    "## network\n",
    "hyperparam opt - nb Couches conv, taille filtres\n",
    "\n",
    "## decrease false positive\n",
    "increase weight of negatives"
   ]
  },
  {
   "cell_type": "code",
   "execution_count": null,
   "metadata": {},
   "outputs": [],
   "source": [
    "import tensorflow as tf\n",
    "from tensorflow.keras.models import Sequential\n",
    "from tensorflow.keras.layers import Dense, Conv2D, Flatten, Dropout, MaxPooling2D\n",
    "from tensorflow.keras.preprocessing.image import ImageDataGenerator\n",
    "import pandas as pd\n",
    "import os\n",
    "import numpy as np\n",
    "import matplotlib.pyplot as plt\n",
    "from sklearn.metrics import classification_report, confusion_matrix"
   ]
  },
  {
   "cell_type": "code",
   "execution_count": null,
   "metadata": {},
   "outputs": [],
   "source": [
    "home = \"C:/Users/JB/Desktop/INSA/5IF/ML/face_detection/dataset/start_deep/\""
   ]
  },
  {
   "cell_type": "markdown",
   "metadata": {},
   "source": [
    "## Loading data"
   ]
  },
  {
   "cell_type": "code",
   "execution_count": null,
   "metadata": {},
   "outputs": [],
   "source": [
    "df = pd.read_csv(\"dataset/start_deep/posneg.txt\", sep=\" \", names=[\"filename\", \"class\"])\n",
    "df = df.astype(str)\n",
    "df.head()"
   ]
  },
  {
   "cell_type": "code",
   "execution_count": null,
   "metadata": {},
   "outputs": [],
   "source": [
    "df_test = pd.read_csv(\"dataset/start_deep/testposneg.txt\", sep=\" \", names=[\"filename\", \"class\"])\n",
    "df_test = df_test.astype(str)\n",
    "df_test.head()"
   ]
  },
  {
   "cell_type": "code",
   "execution_count": null,
   "metadata": {},
   "outputs": [],
   "source": [
    "# Changing files from pgm to jpg - run only once\n",
    "# from PIL import Image\n",
    "# for file in df_test[\"filename\"]:\n",
    "#     abs_path = home+file\n",
    "#     img = Image.open(abs_path)\n",
    "#     new_name = abs_path.replace(\".pgm\", \".jpg\")\n",
    "#     if new_name != abs_path:\n",
    "#         img.save(new_name)"
   ]
  },
  {
   "cell_type": "code",
   "execution_count": null,
   "metadata": {},
   "outputs": [],
   "source": [
    "# from PIL import Image\n",
    "# for file in df[\"filename\"]:\n",
    "#     abs_path = home+\"train_images/\" + file\n",
    "#     img = Image.open(home+\"train_images/\" + file)\n",
    "#     new_name = abs_path.replace(\".pgm\", \".jpg\")\n",
    "#     img.save(new_name)"
   ]
  },
  {
   "cell_type": "code",
   "execution_count": null,
   "metadata": {},
   "outputs": [],
   "source": [
    "# renaming .pgm to jpg\n",
    "def replace_name(name):\n",
    "    return name.replace(\".pgm\", \".jpg\")\n",
    "df[\"filename\"] = df[\"filename\"].apply(replace_name)\n",
    "df_test[\"filename\"] = df_test[\"filename\"].apply(replace_name)"
   ]
  },
  {
   "cell_type": "code",
   "execution_count": null,
   "metadata": {},
   "outputs": [],
   "source": [
    "df.head()"
   ]
  },
  {
   "cell_type": "markdown",
   "metadata": {},
   "source": [
    "### Split train and validation"
   ]
  },
  {
   "cell_type": "code",
   "execution_count": null,
   "metadata": {},
   "outputs": [],
   "source": [
    "from sklearn.model_selection import train_test_split\n",
    "\n",
    "df_train, df_val = train_test_split(df)"
   ]
  },
  {
   "cell_type": "code",
   "execution_count": null,
   "metadata": {},
   "outputs": [],
   "source": [
    "root_dir = home+\"train_images/\""
   ]
  },
  {
   "cell_type": "code",
   "execution_count": null,
   "metadata": {},
   "outputs": [],
   "source": [
    "from PIL import Image\n",
    "img = Image.open(root_dir+df[\"filename\"][0])\n",
    "IMG_HEIGHT, IMG_WIDTH = img.height, img.width\n",
    "IMG_HEIGHT, IMG_WIDTH"
   ]
  },
  {
   "cell_type": "markdown",
   "metadata": {},
   "source": [
    "### Creating generators"
   ]
  },
  {
   "cell_type": "code",
   "execution_count": null,
   "metadata": {},
   "outputs": [],
   "source": [
    "df.shape\n",
    "df_train"
   ]
  },
  {
   "cell_type": "code",
   "execution_count": null,
   "metadata": {},
   "outputs": [],
   "source": [
    "batch_size=32\n",
    "train_image_generator = ImageDataGenerator(rescale=1./255,\n",
    "#                                                   vertical_flip=True,\n",
    "#                                                   zca_whitening=True,\n",
    "                                                          width_shift_range=[-4,4],\n",
    "                                                          height_shift_range=[-4,4],\n",
    "                                                          horizontal_flip=True,\n",
    "                                                          rotation_range=5,\n",
    "                                                          shear_range=5,\n",
    "                                                          zoom_range=0.1,\n",
    "                                                          brightness_range=[0.8,1.0]\n",
    "                                            )\n",
    "\n",
    "\n",
    "# generator_to_numpy = ImageDataGenerator().flow_from_dataframe(df_train, \n",
    "#                                                            directory=root_dir,\n",
    "#                                                           color_mode=\"grayscale\", x_col=\"filename\", y_col=\"class\",\n",
    "#                                                           target_size=(IMG_HEIGHT, IMG_WIDTH), batch_size=len(df_train),\n",
    "#                                                           class_mode=\"binary\",\n",
    "#                                                             )\n",
    "\n",
    "# X, y = generator_to_numpy.next()\n",
    "# train_image_generator.fit(X)\n",
    "\n",
    "train_data_gen = train_image_generator.flow_from_dataframe(df_train, \n",
    "                                                           directory=root_dir,\n",
    "                                                          color_mode=\"grayscale\", x_col=\"filename\", y_col=\"class\",\n",
    "                                                          target_size=(IMG_HEIGHT, IMG_WIDTH), batch_size=batch_size,\n",
    "                                                          class_mode=\"binary\",\n",
    "                                                          shuffle=True)"
   ]
  },
  {
   "cell_type": "code",
   "execution_count": null,
   "metadata": {},
   "outputs": [],
   "source": [
    "batch_size=32\n",
    "val_image_generator = ImageDataGenerator(rescale=1./255)\n",
    "val_data_gen = val_image_generator.flow_from_dataframe(df_val, \n",
    "                                                           directory=root_dir,\n",
    "                                                          color_mode=\"grayscale\", x_col=\"filename\", y_col=\"class\",\n",
    "                                                          target_size=(IMG_HEIGHT, IMG_WIDTH), batch_size=batch_size,\n",
    "                                                          class_mode=\"binary\",\n",
    "                                                          shuffle=False)"
   ]
  },
  {
   "cell_type": "code",
   "execution_count": null,
   "metadata": {},
   "outputs": [],
   "source": [
    "test_generator = ImageDataGenerator(rescale=1./255)\n",
    "test_data_gen = test_generator.flow_from_dataframe(df_test, \n",
    "                                                           directory=home,\n",
    "                                                          color_mode=\"grayscale\", x_col=\"filename\", y_col=\"class\",\n",
    "                                                          target_size=(IMG_HEIGHT, IMG_WIDTH), batch_size=batch_size,\n",
    "                                                          class_mode=\"binary\",\n",
    "                                                          shuffle=True)"
   ]
  },
  {
   "cell_type": "code",
   "execution_count": null,
   "metadata": {},
   "outputs": [],
   "source": [
    "sample_training_images, _ = next(train_data_gen)"
   ]
  },
  {
   "cell_type": "code",
   "execution_count": null,
   "metadata": {},
   "outputs": [],
   "source": [
    "def plotImages(images_arr):\n",
    "    fig, axes = plt.subplots(1, 5, figsize=(20,20))\n",
    "    axes = axes.flatten()\n",
    "    for img, ax in zip( images_arr, axes):\n",
    "        ax.imshow(img[:,:,0], cmap='gray')\n",
    "        ax.axis('off')\n",
    "    plt.tight_layout()\n",
    "    plt.show()"
   ]
  },
  {
   "cell_type": "code",
   "execution_count": null,
   "metadata": {},
   "outputs": [],
   "source": [
    "plotImages(sample_training_images[:10])"
   ]
  },
  {
   "cell_type": "code",
   "execution_count": null,
   "metadata": {},
   "outputs": [],
   "source": [
    "dropout_rate = 0.3\n",
    "model = Sequential([\n",
    "    Conv2D(16, 3, padding='same', activation='relu', input_shape=(IMG_HEIGHT, IMG_WIDTH ,1)),\n",
    "    MaxPooling2D(),\n",
    "    Dropout(dropout_rate),\n",
    "    Conv2D(32, 3, padding='same', activation='relu'),\n",
    "    MaxPooling2D(),\n",
    "    Dropout(dropout_rate),\n",
    "    Conv2D(64, 3, padding='same', activation='relu'),\n",
    "    MaxPooling2D(),\n",
    "    Flatten(),\n",
    "    Dense(512, activation='relu'),\n",
    "    Dropout(dropout_rate),\n",
    "    Dense(1, activation='sigmoid')\n",
    "])"
   ]
  },
  {
   "cell_type": "code",
   "execution_count": null,
   "metadata": {},
   "outputs": [],
   "source": [
    "from sklearn.metrics import roc_auc_score\n",
    "\n",
    "def auc(y_true, y_pred):\n",
    "    auc = tf.metrics.AUC(y_true, y_pred)[1]\n",
    "    K.get_session().run(tf.local_variables_initializer())\n",
    "    return auc\n",
    "\n",
    "model.compile(optimizer='adam',\n",
    "              loss=\"binary_crossentropy\", \n",
    "             metrics=[\"accuracy\",\"AUC\"])"
   ]
  },
  {
   "cell_type": "code",
   "execution_count": null,
   "metadata": {},
   "outputs": [],
   "source": [
    "model.summary()"
   ]
  },
  {
   "cell_type": "code",
   "execution_count": null,
   "metadata": {},
   "outputs": [],
   "source": [
    "epochs = 5\n",
    "history = model.fit_generator(\n",
    "    train_data_gen,\n",
    "    steps_per_epoch=None,\n",
    "    epochs=epochs,\n",
    "    validation_data=val_data_gen,\n",
    "#     validation_steps=len(df) // batch_size\n",
    ")"
   ]
  },
  {
   "cell_type": "code",
   "execution_count": null,
   "metadata": {},
   "outputs": [],
   "source": [
    "acc = history.history['accuracy']\n",
    "val_acc = history.history['val_accuracy']\n",
    "\n",
    "loss = history.history['loss']\n",
    "val_loss = history.history['val_loss']\n",
    "\n",
    "epochs_range = range(epochs)\n",
    "\n",
    "plt.figure(figsize=(8, 8))\n",
    "plt.subplot(1, 2, 1)\n",
    "plt.plot(epochs_range, acc, label='Training Accuracy')\n",
    "plt.plot(epochs_range, val_acc, label='Validation Accuracy')\n",
    "plt.legend(loc='lower right')\n",
    "plt.title('Training and Validation Accuracy')\n",
    "\n",
    "plt.subplot(1, 2, 2)\n",
    "plt.plot(epochs_range, loss, label='Training Loss')\n",
    "plt.plot(epochs_range, val_loss, label='Validation Loss')\n",
    "plt.legend(loc='upper right')\n",
    "plt.title('Training and Validation Loss')\n",
    "plt.show()"
   ]
  },
  {
   "cell_type": "markdown",
   "metadata": {},
   "source": [
    "## Metrics"
   ]
  },
  {
   "cell_type": "code",
   "execution_count": null,
   "metadata": {},
   "outputs": [],
   "source": [
    "truth = val_data_gen.labels\n",
    "prediction = model.predict_generator(val_data_gen)"
   ]
  },
  {
   "cell_type": "code",
   "execution_count": null,
   "metadata": {},
   "outputs": [],
   "source": [
    "from sklearn.metrics import roc_auc_score, accuracy_score\n",
    "\n",
    "print(roc_auc_score(truth, prediction))\n",
    "print(accuracy_score(truth, np.round(prediction)))"
   ]
  },
  {
   "cell_type": "code",
   "execution_count": null,
   "metadata": {},
   "outputs": [],
   "source": [
    "next_batch = next(val_data_gen)\n",
    "roc_auc_score(next_batch[1], model.predict(next_batch))"
   ]
  },
  {
   "cell_type": "code",
   "execution_count": null,
   "metadata": {},
   "outputs": [],
   "source": [
    "model.evaluate_generator(test_data_gen)"
   ]
  },
  {
   "cell_type": "markdown",
   "metadata": {},
   "source": [
    "# Results\n",
    "\n",
    "Best enriched data result: [0.0422026319823824, 0.98833245, 0.9972152]\n",
    "\n",
    "Without ZCA: [0.08668688679636148, 0.9605401, 0.998305]\n",
    "\n",
    "With ZCA:\n"
   ]
  },
  {
   "cell_type": "code",
   "execution_count": null,
   "metadata": {},
   "outputs": [],
   "source": [
    "# Confusion Matrix and Classification Report\n",
    "\n",
    "Y_pred = model.predict_generator(val_data_gen, num_of_test_samples // batch_size+1)\n",
    "y_pred = np.argmax(Y_pred, axis=1)\n",
    "print('Confusion Matrix')\n",
    "print(confusion_matrix(validation_generator.classes, y_pred))"
   ]
  }
 ],
 "metadata": {
  "kernelspec": {
   "display_name": "Python 3",
   "language": "python",
   "name": "python3"
  },
  "language_info": {
   "codemirror_mode": {
    "name": "ipython",
    "version": 3
   },
   "file_extension": ".py",
   "mimetype": "text/x-python",
   "name": "python",
   "nbconvert_exporter": "python",
   "pygments_lexer": "ipython3",
   "version": "3.6.9"
  }
 },
 "nbformat": 4,
 "nbformat_minor": 2
}
