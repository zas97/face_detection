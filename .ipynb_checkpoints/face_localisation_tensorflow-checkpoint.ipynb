{
 "cells": [
  {
   "cell_type": "code",
   "execution_count": 2,
   "metadata": {},
   "outputs": [],
   "source": [
    "import tensorflow as tf\n",
    "from tensorflow.keras.models import load_model\n",
    "import matplotlib.pyplot as plt\n",
    "import numpy as np\n",
    "from PIL import Image\n",
    "import cv2\n",
    "%matplotlib inline"
   ]
  },
  {
   "cell_type": "code",
   "execution_count": 3,
   "metadata": {},
   "outputs": [],
   "source": [
    "base_dir = \"C:/Users/joanc/PycharmProjects/face_detection/\""
   ]
  },
  {
   "cell_type": "code",
   "execution_count": 4,
   "metadata": {},
   "outputs": [],
   "source": [
    "def plot_single_img(img):\n",
    "    if len(img.shape) == 2:\n",
    "        plt.imshow(img, cmap=\"gray\")\n",
    "    else:\n",
    "        plt.imshow(img)"
   ]
  },
  {
   "cell_type": "code",
   "execution_count": 5,
   "metadata": {},
   "outputs": [],
   "source": [
    "def plot_images(images_arr):\n",
    "    fig, axes = plt.subplots(1, 5, figsize=(20,20))\n",
    "    axes = axes.flatten()\n",
    "    for img, ax in zip( images_arr, axes):\n",
    "        ax.imshow(img, cmap='gray')\n",
    "        ax.axis('off')\n",
    "    plt.tight_layout()\n",
    "    plt.show()\n",
    "\n",
    "\n",
    "img = np.array(Image.open(base_dir+\"dataset/train_images/1/Image000644.jpg\"))"
   ]
  },
  {
   "cell_type": "code",
   "execution_count": 6,
   "metadata": {},
   "outputs": [],
   "source": [
    "# bugg fix for some computers\n",
    "# it makes tensorflow use only the part of the gpu that is needed\n",
    "gpu = tf.config.experimental.list_physical_devices('GPU')[0]\n",
    "tf.config.experimental.set_memory_growth(gpu, True)"
   ]
  },
  {
   "cell_type": "code",
   "execution_count": 7,
   "metadata": {},
   "outputs": [],
   "source": [
    "model = load_model(\"saved_models/face_classifier.h5\")"
   ]
  },
  {
   "cell_type": "code",
   "execution_count": 8,
   "metadata": {},
   "outputs": [],
   "source": [
    "img = img/255"
   ]
  },
  {
   "cell_type": "code",
   "execution_count": 9,
   "metadata": {},
   "outputs": [],
   "source": [
    "new_img = cv2.imread(\"C:/Users/joanc/Downloads/Mixed-Raced-family-e1513084049363-600x320.jpg\",cv2.IMREAD_GRAYSCALE)\n",
    "new_img = cv2.resize(new_img, None, fx=0.7, fy=0.7)\n",
    "new_img = new_img/255"
   ]
  },
  {
   "cell_type": "code",
   "execution_count": 83,
   "metadata": {},
   "outputs": [
    {
     "name": "stdout",
     "output_type": "stream",
     "text": [
      "165\n",
      "165\n",
      "165\n",
      "Wall time: 3.28 s\n"
     ]
    }
   ],
   "source": [
    "@tf.function\n",
    "def zoom(images, zoom_factor=1.2):\n",
    "    new_h, new_w = int(images.shape[1]*zoom_factor), int(images.shape[2]*zoom_factor)\n",
    "    return tf.image.resize(images, (new_h, new_w))\n",
    "\n",
    "# @tf.function\n",
    "def predict_pyramid(images, model, zoom_iterations=3, stride=3, batch_size=64):\n",
    "    height_window, width_window = model.input_shape[1], model.input_shape[2]\n",
    "    original_height, original_width = images.shape[1], images.shape[2]\n",
    "    for it in range(zoom_iterations):\n",
    "        patches = tf.compat.v1.extract_image_patches(images, sizes=[1, height_window, width_window, 1], \n",
    "                                                     strides=[1,stride,stride,1], \n",
    "                                                     rates=[1,1,1,1], \n",
    "                                                    padding=\"SAME\")\n",
    "        reshaped = tf.reshape(patches, (patches.shape[1]*patches.shape[2], height_window, width_window, 1))\n",
    "        iterator =  range(0, reshaped.shape[0], batch_size)\n",
    "        results = [None for it in range(len(iterator))]\n",
    "        print(len(results))\n",
    "        for it in iterator:\n",
    "            results[it//batch_size] = model(reshaped[it:it+batch_size], training=False)\n",
    "#     print(results)\n",
    "\n",
    "# shape must be [batch_size, height, width, nb_channels]\n",
    "%time predict_pyramid(new_img.reshape(1, *new_img.shape, 1), model)"
   ]
  }
 ],
 "metadata": {
  "kernelspec": {
   "display_name": "Python 3",
   "language": "python",
   "name": "python3"
  },
  "language_info": {
   "codemirror_mode": {
    "name": "ipython",
    "version": 3
   },
   "file_extension": ".py",
   "mimetype": "text/x-python",
   "name": "python",
   "nbconvert_exporter": "python",
   "pygments_lexer": "ipython3",
   "version": "3.7.4"
  }
 },
 "nbformat": 4,
 "nbformat_minor": 2
}
