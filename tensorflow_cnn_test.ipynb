{
 "cells": [
  {
   "cell_type": "markdown",
   "metadata": {},
   "source": [
    "# Increasing precision\n",
    "## data augmentation\n",
    "- flip\n",
    "- move\n",
    "- blur\n",
    "- brighten/darken\n",
    "\n",
    "## network\n",
    "hyperparam opt - nb Couches conv, taille filtres\n",
    "\n",
    "## decrease false positive\n",
    "increase weight of negatives"
   ]
  },
  {
   "cell_type": "code",
   "execution_count": 1,
   "metadata": {},
   "outputs": [],
   "source": [
    "import tensorflow as tf\n",
    "from tensorflow.keras.models import Sequential\n",
    "from tensorflow.keras.layers import Dense, Conv2D, Flatten, Dropout, MaxPooling2D\n",
    "from tensorflow.keras.preprocessing.image import ImageDataGenerator\n",
    "import pandas as pd\n",
    "import os\n",
    "import numpy as np\n",
    "import matplotlib.pyplot as plt\n",
    "from sklearn.metrics import classification_report, confusion_matrix"
   ]
  },
  {
   "cell_type": "code",
   "execution_count": 2,
   "metadata": {},
   "outputs": [],
   "source": [
    "home = \"C:/Users/joanc/PycharmProjects/face_detection/dataset/start_deep/\""
   ]
  },
  {
   "cell_type": "markdown",
   "metadata": {},
   "source": [
    "## Loading data"
   ]
  },
  {
   "cell_type": "code",
   "execution_count": 3,
   "metadata": {},
   "outputs": [
    {
     "data": {
      "text/html": [
       "<div>\n",
       "<style scoped>\n",
       "    .dataframe tbody tr th:only-of-type {\n",
       "        vertical-align: middle;\n",
       "    }\n",
       "\n",
       "    .dataframe tbody tr th {\n",
       "        vertical-align: top;\n",
       "    }\n",
       "\n",
       "    .dataframe thead th {\n",
       "        text-align: right;\n",
       "    }\n",
       "</style>\n",
       "<table border=\"1\" class=\"dataframe\">\n",
       "  <thead>\n",
       "    <tr style=\"text-align: right;\">\n",
       "      <th></th>\n",
       "      <th>filename</th>\n",
       "      <th>class</th>\n",
       "    </tr>\n",
       "  </thead>\n",
       "  <tbody>\n",
       "    <tr>\n",
       "      <td>0</td>\n",
       "      <td>1/Image000605.pgm</td>\n",
       "      <td>1</td>\n",
       "    </tr>\n",
       "    <tr>\n",
       "      <td>1</td>\n",
       "      <td>1/Image000607.pgm</td>\n",
       "      <td>1</td>\n",
       "    </tr>\n",
       "    <tr>\n",
       "      <td>2</td>\n",
       "      <td>1/Image000608.pgm</td>\n",
       "      <td>1</td>\n",
       "    </tr>\n",
       "    <tr>\n",
       "      <td>3</td>\n",
       "      <td>1/Image000609.pgm</td>\n",
       "      <td>1</td>\n",
       "    </tr>\n",
       "    <tr>\n",
       "      <td>4</td>\n",
       "      <td>1/Image000610.pgm</td>\n",
       "      <td>1</td>\n",
       "    </tr>\n",
       "  </tbody>\n",
       "</table>\n",
       "</div>"
      ],
      "text/plain": [
       "            filename class\n",
       "0  1/Image000605.pgm     1\n",
       "1  1/Image000607.pgm     1\n",
       "2  1/Image000608.pgm     1\n",
       "3  1/Image000609.pgm     1\n",
       "4  1/Image000610.pgm     1"
      ]
     },
     "execution_count": 3,
     "metadata": {},
     "output_type": "execute_result"
    }
   ],
   "source": [
    "df = pd.read_csv(f\"{home}posneg.txt\", sep=\" \", names=[\"filename\", \"class\"])\n",
    "df = df.astype(str)\n",
    "df.head()"
   ]
  },
  {
   "cell_type": "code",
   "execution_count": 4,
   "metadata": {},
   "outputs": [
    {
     "data": {
      "text/html": [
       "<div>\n",
       "<style scoped>\n",
       "    .dataframe tbody tr th:only-of-type {\n",
       "        vertical-align: middle;\n",
       "    }\n",
       "\n",
       "    .dataframe tbody tr th {\n",
       "        vertical-align: top;\n",
       "    }\n",
       "\n",
       "    .dataframe thead th {\n",
       "        text-align: right;\n",
       "    }\n",
       "</style>\n",
       "<table border=\"1\" class=\"dataframe\">\n",
       "  <thead>\n",
       "    <tr style=\"text-align: right;\">\n",
       "      <th></th>\n",
       "      <th>filename</th>\n",
       "      <th>class</th>\n",
       "    </tr>\n",
       "  </thead>\n",
       "  <tbody>\n",
       "    <tr>\n",
       "      <td>0</td>\n",
       "      <td>test_images/googlefaces_test/503_1__t0,0_r0_s1...</td>\n",
       "      <td>1</td>\n",
       "    </tr>\n",
       "    <tr>\n",
       "      <td>1</td>\n",
       "      <td>test_images/googlefaces_test/367_0__t0,0_r0_s1...</td>\n",
       "      <td>1</td>\n",
       "    </tr>\n",
       "    <tr>\n",
       "      <td>2</td>\n",
       "      <td>test_images/googlefaces_test/10_0__t0,0_r0_s1.pgm</td>\n",
       "      <td>1</td>\n",
       "    </tr>\n",
       "    <tr>\n",
       "      <td>3</td>\n",
       "      <td>test_images/googlefaces_test/53_0__t0,0_r0_s1.pgm</td>\n",
       "      <td>1</td>\n",
       "    </tr>\n",
       "    <tr>\n",
       "      <td>4</td>\n",
       "      <td>test_images/googlefaces_test/323_0__t0,0_r0_s1...</td>\n",
       "      <td>1</td>\n",
       "    </tr>\n",
       "  </tbody>\n",
       "</table>\n",
       "</div>"
      ],
      "text/plain": [
       "                                            filename class\n",
       "0  test_images/googlefaces_test/503_1__t0,0_r0_s1...     1\n",
       "1  test_images/googlefaces_test/367_0__t0,0_r0_s1...     1\n",
       "2  test_images/googlefaces_test/10_0__t0,0_r0_s1.pgm     1\n",
       "3  test_images/googlefaces_test/53_0__t0,0_r0_s1.pgm     1\n",
       "4  test_images/googlefaces_test/323_0__t0,0_r0_s1...     1"
      ]
     },
     "execution_count": 4,
     "metadata": {},
     "output_type": "execute_result"
    }
   ],
   "source": [
    "df_test = pd.read_csv(\"dataset/start_deep/testposneg.txt\", sep=\" \", names=[\"filename\", \"class\"])\n",
    "df_test = df_test.astype(str)\n",
    "df_test.head()"
   ]
  },
  {
   "cell_type": "code",
   "execution_count": 5,
   "metadata": {},
   "outputs": [],
   "source": [
    "# Changing files from pgm to jpg - run only once\n",
    "# from PIL import Image\n",
    "# for file in df_test[\"filename\"]:\n",
    "#     abs_path = home+file\n",
    "#     img = Image.open(abs_path)\n",
    "#     new_name = abs_path.replace(\".pgm\", \".jpg\")\n",
    "#     if new_name != abs_path:\n",
    "#         img.save(new_name)"
   ]
  },
  {
   "cell_type": "code",
   "execution_count": 6,
   "metadata": {},
   "outputs": [],
   "source": [
    "# from PIL import Image\n",
    "# for file in df[\"filename\"]:\n",
    "#     abs_path = home+\"train_images/\" + file\n",
    "#     img = Image.open(home+\"train_images/\" + file)\n",
    "#     new_name = abs_path.replace(\".pgm\", \".jpg\")\n",
    "#     img.save(new_name)"
   ]
  },
  {
   "cell_type": "code",
   "execution_count": 7,
   "metadata": {},
   "outputs": [],
   "source": [
    "# renaming .pgm to jpg\n",
    "def replace_name(name):\n",
    "    return name.replace(\".pgm\", \".jpg\")\n",
    "df[\"filename\"] = df[\"filename\"].apply(replace_name)\n",
    "df_test[\"filename\"] = df_test[\"filename\"].apply(replace_name)"
   ]
  },
  {
   "cell_type": "code",
   "execution_count": 8,
   "metadata": {},
   "outputs": [
    {
     "data": {
      "text/html": [
       "<div>\n",
       "<style scoped>\n",
       "    .dataframe tbody tr th:only-of-type {\n",
       "        vertical-align: middle;\n",
       "    }\n",
       "\n",
       "    .dataframe tbody tr th {\n",
       "        vertical-align: top;\n",
       "    }\n",
       "\n",
       "    .dataframe thead th {\n",
       "        text-align: right;\n",
       "    }\n",
       "</style>\n",
       "<table border=\"1\" class=\"dataframe\">\n",
       "  <thead>\n",
       "    <tr style=\"text-align: right;\">\n",
       "      <th></th>\n",
       "      <th>filename</th>\n",
       "      <th>class</th>\n",
       "    </tr>\n",
       "  </thead>\n",
       "  <tbody>\n",
       "    <tr>\n",
       "      <td>0</td>\n",
       "      <td>1/Image000605.jpg</td>\n",
       "      <td>1</td>\n",
       "    </tr>\n",
       "    <tr>\n",
       "      <td>1</td>\n",
       "      <td>1/Image000607.jpg</td>\n",
       "      <td>1</td>\n",
       "    </tr>\n",
       "    <tr>\n",
       "      <td>2</td>\n",
       "      <td>1/Image000608.jpg</td>\n",
       "      <td>1</td>\n",
       "    </tr>\n",
       "    <tr>\n",
       "      <td>3</td>\n",
       "      <td>1/Image000609.jpg</td>\n",
       "      <td>1</td>\n",
       "    </tr>\n",
       "    <tr>\n",
       "      <td>4</td>\n",
       "      <td>1/Image000610.jpg</td>\n",
       "      <td>1</td>\n",
       "    </tr>\n",
       "  </tbody>\n",
       "</table>\n",
       "</div>"
      ],
      "text/plain": [
       "            filename class\n",
       "0  1/Image000605.jpg     1\n",
       "1  1/Image000607.jpg     1\n",
       "2  1/Image000608.jpg     1\n",
       "3  1/Image000609.jpg     1\n",
       "4  1/Image000610.jpg     1"
      ]
     },
     "execution_count": 8,
     "metadata": {},
     "output_type": "execute_result"
    }
   ],
   "source": [
    "df.head()"
   ]
  },
  {
   "cell_type": "markdown",
   "metadata": {},
   "source": [
    "### Split train and validation"
   ]
  },
  {
   "cell_type": "code",
   "execution_count": 9,
   "metadata": {},
   "outputs": [],
   "source": [
    "from sklearn.model_selection import train_test_split\n",
    "\n",
    "df_train = df\n",
    "df_val, df_test = train_test_split(df_test, train_size=0.5, random_state=1)"
   ]
  },
  {
   "cell_type": "code",
   "execution_count": 10,
   "metadata": {},
   "outputs": [],
   "source": [
    "root_dir = home+\"train_images/\""
   ]
  },
  {
   "cell_type": "code",
   "execution_count": 11,
   "metadata": {},
   "outputs": [
    {
     "data": {
      "text/plain": [
       "(36, 36)"
      ]
     },
     "execution_count": 11,
     "metadata": {},
     "output_type": "execute_result"
    }
   ],
   "source": [
    "from PIL import Image\n",
    "img = Image.open(root_dir+df[\"filename\"][0])\n",
    "IMG_HEIGHT, IMG_WIDTH = img.height, img.width\n",
    "IMG_HEIGHT, IMG_WIDTH"
   ]
  },
  {
   "cell_type": "markdown",
   "metadata": {},
   "source": [
    "## Adding weigths based on label"
   ]
  },
  {
   "cell_type": "code",
   "execution_count": 12,
   "metadata": {},
   "outputs": [
    {
     "data": {
      "text/plain": [
       "{0: 1.701669758812616, 1: 0.708043847460244}"
      ]
     },
     "execution_count": 12,
     "metadata": {},
     "output_type": "execute_result"
    }
   ],
   "source": [
    "labels, counts = np.unique(df_train[\"class\"], return_counts=True)\n",
    "weights_labels = {it:(np.sum(counts) / (counts[it]*len(labels))) for it in range(len(labels))}\n",
    "weights_labels"
   ]
  },
  {
   "cell_type": "code",
   "execution_count": 13,
   "metadata": {},
   "outputs": [
    {
     "name": "stdout",
     "output_type": "stream",
     "text": [
      "Found 91720 validated image filenames belonging to 2 classes.\n"
     ]
    }
   ],
   "source": [
    "batch_size=32\n",
    "train_image_generator = ImageDataGenerator(rescale=1./255,\n",
    "#                                                   vertical_flip=True,\n",
    "                                                          width_shift_range=[-4,4],\n",
    "                                                          height_shift_range=[-4,4],\n",
    "                                                          horizontal_flip=True,\n",
    "                                                          rotation_range=5,\n",
    "                                                          shear_range=0.2,\n",
    "                                                          zoom_range=0.2,\n",
    "                                                          brightness_range=[0.8,1.0],\n",
    "                                            )\n",
    "train_data_gen = train_image_generator.flow_from_dataframe(df_train, \n",
    "                                                           directory=root_dir,\n",
    "                                                          color_mode=\"grayscale\", x_col=\"filename\", y_col=\"class\",\n",
    "                                                          target_size=(IMG_HEIGHT, IMG_WIDTH), batch_size=batch_size,\n",
    "                                                          class_mode=\"binary\",\n",
    "                                                          shuffle=True)"
   ]
  },
  {
   "cell_type": "code",
   "execution_count": 14,
   "metadata": {},
   "outputs": [
    {
     "name": "stdout",
     "output_type": "stream",
     "text": [
      "Found 3814 validated image filenames belonging to 2 classes.\n"
     ]
    }
   ],
   "source": [
    "batch_size=32\n",
    "val_image_generator = ImageDataGenerator(rescale=1./255)\n",
    "val_data_gen = val_image_generator.flow_from_dataframe(df_val, \n",
    "                                                           directory=home,\n",
    "                                                          color_mode=\"grayscale\", x_col=\"filename\", y_col=\"class\",\n",
    "                                                          target_size=(IMG_HEIGHT, IMG_WIDTH), batch_size=batch_size,\n",
    "                                                          class_mode=\"binary\",\n",
    "                                                          shuffle=False)"
   ]
  },
  {
   "cell_type": "code",
   "execution_count": 15,
   "metadata": {},
   "outputs": [
    {
     "name": "stdout",
     "output_type": "stream",
     "text": [
      "Found 3814 validated image filenames belonging to 2 classes.\n"
     ]
    }
   ],
   "source": [
    "test_generator = ImageDataGenerator(rescale=1./255)\n",
    "test_data_gen = test_generator.flow_from_dataframe(df_test, \n",
    "                                                           directory=home,\n",
    "                                                          color_mode=\"grayscale\", x_col=\"filename\", y_col=\"class\",\n",
    "                                                          target_size=(IMG_HEIGHT, IMG_WIDTH), batch_size=batch_size,\n",
    "                                                          class_mode=\"binary\",\n",
    "                                                          shuffle=False)"
   ]
  },
  {
   "cell_type": "code",
   "execution_count": 16,
   "metadata": {},
   "outputs": [],
   "source": [
    "sample_training_images, labels = next(train_data_gen)"
   ]
  },
  {
   "cell_type": "code",
   "execution_count": 17,
   "metadata": {},
   "outputs": [],
   "source": [
    "def plotImages(images_arr):\n",
    "    fig, axes = plt.subplots(1, 5, figsize=(20,20))\n",
    "    axes = axes.flatten()\n",
    "    for img, ax in zip( images_arr, axes):\n",
    "        ax.imshow(img[:,:,0], cmap='gray')\n",
    "        ax.axis('off')\n",
    "    plt.tight_layout()\n",
    "    plt.show()"
   ]
  },
  {
   "cell_type": "code",
   "execution_count": 18,
   "metadata": {},
   "outputs": [
    {
     "data": {
      "image/png": "[encoded data removed]",
      "text/plain": [
       "<Figure size 1440x1440 with 5 Axes>"
      ]
     },
     "metadata": {
      "needs_background": "light"
     },
     "output_type": "display_data"
    }
   ],
   "source": [
    "plotImages(sample_training_images[:5])"
   ]
  },
  {
   "cell_type": "code",
   "execution_count": 19,
   "metadata": {},
   "outputs": [],
   "source": [
    "# bugg fix for some computers\n",
    "# it makes tensorflow use only the part of the gpu that is needed\n",
    "gpu = tf.config.experimental.list_physical_devices('GPU')[0]\n",
    "tf.config.experimental.set_memory_growth(gpu, True)"
   ]
  },
  {
   "cell_type": "code",
   "execution_count": 20,
   "metadata": {},
   "outputs": [],
   "source": [
    "dropout_rate = 0.5\n",
    "model = Sequential([\n",
    "    Conv2D(16, 3, padding='same', activation='relu', input_shape=(IMG_HEIGHT, IMG_WIDTH ,1)),\n",
    "    MaxPooling2D(),\n",
    "    Dropout(dropout_rate),\n",
    "    Conv2D(32, 3, padding='same', activation='relu'),\n",
    "    MaxPooling2D(),\n",
    "    Dropout(dropout_rate),\n",
    "    Conv2D(64, 3, padding='same', activation='relu'),\n",
    "    MaxPooling2D(),\n",
    "    Flatten(),\n",
    "    Dense(512, activation='relu'),\n",
    "    Dropout(dropout_rate),\n",
    "    Dense(1, activation='sigmoid')\n",
    "])"
   ]
  },
  {
   "cell_type": "code",
   "execution_count": 21,
   "metadata": {},
   "outputs": [],
   "source": [
    "from sklearn.metrics import roc_auc_score\n",
    "\n",
    "def auc(y_true, y_pred):\n",
    "    auc = tf.metrics.AUC(y_true, y_pred)[1]\n",
    "    K.get_session().run(tf.local_variables_initializer())\n",
    "    return auc\n",
    "\n",
    "optimizer = tf.keras.optimizers.Adam(learning_rate=0.001)\n",
    "model.compile(optimizer='adam',\n",
    "              loss=\"binary_crossentropy\", \n",
    "             metrics=[\"accuracy\",\"AUC\"])"
   ]
  },
  {
   "cell_type": "code",
   "execution_count": 22,
   "metadata": {},
   "outputs": [
    {
     "name": "stdout",
     "output_type": "stream",
     "text": [
      "Model: \"sequential\"\n",
      "_________________________________________________________________\n",
      "Layer (type)                 Output Shape              Param #   \n",
      "=================================================================\n",
      "conv2d (Conv2D)              (None, 36, 36, 16)        160       \n",
      "_________________________________________________________________\n",
      "max_pooling2d (MaxPooling2D) (None, 18, 18, 16)        0         \n",
      "_________________________________________________________________\n",
      "dropout (Dropout)            (None, 18, 18, 16)        0         \n",
      "_________________________________________________________________\n",
      "conv2d_1 (Conv2D)            (None, 18, 18, 32)        4640      \n",
      "_________________________________________________________________\n",
      "max_pooling2d_1 (MaxPooling2 (None, 9, 9, 32)          0         \n",
      "_________________________________________________________________\n",
      "dropout_1 (Dropout)          (None, 9, 9, 32)          0         \n",
      "_________________________________________________________________\n",
      "conv2d_2 (Conv2D)            (None, 9, 9, 64)          18496     \n",
      "_________________________________________________________________\n",
      "max_pooling2d_2 (MaxPooling2 (None, 4, 4, 64)          0         \n",
      "_________________________________________________________________\n",
      "flatten (Flatten)            (None, 1024)              0         \n",
      "_________________________________________________________________\n",
      "dense (Dense)                (None, 512)               524800    \n",
      "_________________________________________________________________\n",
      "dropout_2 (Dropout)          (None, 512)               0         \n",
      "_________________________________________________________________\n",
      "dense_1 (Dense)              (None, 1)                 513       \n",
      "=================================================================\n",
      "Total params: 548,609\n",
      "Trainable params: 548,609\n",
      "Non-trainable params: 0\n",
      "_________________________________________________________________\n"
     ]
    }
   ],
   "source": [
    "model.summary()"
   ]
  },
  {
   "cell_type": "markdown",
   "metadata": {},
   "source": [
    "## Finding learning rate"
   ]
  },
  {
   "cell_type": "code",
   "execution_count": 23,
   "metadata": {},
   "outputs": [],
   "source": [
    "# from lr_finder import LRFinder\n",
    "\n",
    "# lr_finder = LRFinder()\n",
    "# _ = model.fit_generator(train_data_gen, epochs=1, callbacks=[lr_finder], verbose=False)\n",
    "# lr_finder.plot()"
   ]
  },
  {
   "cell_type": "markdown",
   "metadata": {},
   "source": [
    "## Training"
   ]
  },
  {
   "cell_type": "code",
   "execution_count": 24,
   "metadata": {},
   "outputs": [
    {
     "name": "stdout",
     "output_type": "stream",
     "text": [
      "Epoch 1/6\n",
      "2867/2867 [==============================] - 110s 38ms/step - loss: 0.2860 - accuracy: 0.8712 - AUC: 0.9495 - val_loss: 0.0544 - val_accuracy: 0.9837 - val_AUC: 0.9953\n",
      "Epoch 2/6\n",
      "2867/2867 [==============================] - 109s 38ms/step - loss: 0.1337 - accuracy: 0.9477 - AUC: 0.9887 - val_loss: 0.0853 - val_accuracy: 0.9740 - val_AUC: 0.9965\n",
      "Epoch 3/6\n",
      "2867/2867 [==============================] - 108s 38ms/step - loss: 0.0976 - accuracy: 0.9624 - AUC: 0.9936 - val_loss: 0.0234 - val_accuracy: 0.9937 - val_AUC: 0.9964\n",
      "Epoch 4/6\n",
      "2867/2867 [==============================] - 108s 38ms/step - loss: 0.0811 - accuracy: 0.9687 - AUC: 0.9955 - val_loss: 0.0364 - val_accuracy: 0.9921 - val_AUC: 0.9956\n",
      "Epoch 5/6\n",
      "2867/2867 [==============================] - 109s 38ms/step - loss: 0.0714 - accuracy: 0.9729 - AUC: 0.9962 - val_loss: 0.0279 - val_accuracy: 0.9927 - val_AUC: 0.9975\n",
      "Epoch 6/6\n",
      "2867/2867 [==============================] - 109s 38ms/step - loss: 0.0648 - accuracy: 0.9752 - AUC: 0.9968 - val_loss: 0.0356 - val_accuracy: 0.9879 - val_AUC: 0.9969\n"
     ]
    }
   ],
   "source": [
    "epochs = 6\n",
    "early_stopping = tf.keras.callbacks.EarlyStopping(monitor='val_loss', patience=10)\n",
    "\n",
    "history = model.fit_generator(\n",
    "    train_data_gen,\n",
    "    steps_per_epoch=None,\n",
    "    epochs=epochs,\n",
    "    validation_data=val_data_gen,\n",
    "    callbacks=[early_stopping],\n",
    "    class_weight=weights_labels\n",
    "#     validation_steps=len(df) // batch_size\n",
    ")"
   ]
  },
  {
   "cell_type": "code",
   "execution_count": 25,
   "metadata": {},
   "outputs": [
    {
     "data": {
      "image/png": "[encoded data removed]",
      "text/plain": [
       "<Figure size 576x576 with 2 Axes>"
      ]
     },
     "metadata": {
      "needs_background": "light"
     },
     "output_type": "display_data"
    }
   ],
   "source": [
    "acc = history.history['accuracy']\n",
    "val_acc = history.history['val_accuracy']\n",
    "\n",
    "loss = history.history['loss']\n",
    "val_loss = history.history['val_loss']\n",
    "\n",
    "epochs_range = range(len(loss))\n",
    "\n",
    "plt.figure(figsize=(8, 8))\n",
    "plt.subplot(1, 2, 1)\n",
    "plt.plot(epochs_range, acc, label='Training Accuracy')\n",
    "plt.plot(epochs_range, val_acc, label='Validation Accuracy')\n",
    "plt.legend(loc='lower right')\n",
    "plt.title('Training and Validation Accuracy')\n",
    "\n",
    "plt.subplot(1, 2, 2)\n",
    "plt.plot(epochs_range, loss, label='Training Loss')\n",
    "plt.plot(epochs_range, val_loss, label='Validation Loss')\n",
    "plt.legend(loc='upper right')\n",
    "plt.title('Training and Validation Loss')\n",
    "plt.show()"
   ]
  },
  {
   "cell_type": "markdown",
   "metadata": {},
   "source": [
    "## Metrics"
   ]
  },
  {
   "cell_type": "code",
   "execution_count": 26,
   "metadata": {},
   "outputs": [],
   "source": [
    "truth = val_data_gen.labels\n",
    "prediction = model.predict_generator(val_data_gen, workers=0)"
   ]
  },
  {
   "cell_type": "code",
   "execution_count": 27,
   "metadata": {},
   "outputs": [
    {
     "name": "stdout",
     "output_type": "stream",
     "text": [
      "0.9973533635243301\n",
      "0.9879391714735186\n"
     ]
    }
   ],
   "source": [
    "from sklearn.metrics import roc_auc_score, accuracy_score\n",
    "\n",
    "print(roc_auc_score(truth, prediction))\n",
    "print(accuracy_score(truth, np.round(prediction)))"
   ]
  },
  {
   "cell_type": "markdown",
   "metadata": {},
   "source": [
    "# Results\n",
    "\n",
    "Best val_loss: 0.0280 - val_accuracy: 0.9929 - val_AUC: 0.9959\n"
   ]
  },
  {
   "cell_type": "code",
   "execution_count": 28,
   "metadata": {},
   "outputs": [
    {
     "name": "stdout",
     "output_type": "stream",
     "text": [
      "[9, 9]\n"
     ]
    },
    {
     "name": "stderr",
     "output_type": "stream",
     "text": [
      "C:\\Users\\joanc\\PycharmProjects\\face_detection\\confusion_matrix.py:166: MatplotlibDeprecationWarning: \n",
      "The tick1On function was deprecated in Matplotlib 3.1 and will be removed in 3.3. Use Tick.tick1line.set_visible instead.\n",
      "  t.tick1On = False\n",
      "C:\\Users\\joanc\\PycharmProjects\\face_detection\\confusion_matrix.py:167: MatplotlibDeprecationWarning: \n",
      "The tick2On function was deprecated in Matplotlib 3.1 and will be removed in 3.3. Use Tick.tick2line.set_visible instead.\n",
      "  t.tick2On = False\n",
      "C:\\Users\\joanc\\PycharmProjects\\face_detection\\confusion_matrix.py:169: MatplotlibDeprecationWarning: \n",
      "The tick1On function was deprecated in Matplotlib 3.1 and will be removed in 3.3. Use Tick.tick1line.set_visible instead.\n",
      "  t.tick1On = False\n",
      "C:\\Users\\joanc\\PycharmProjects\\face_detection\\confusion_matrix.py:170: MatplotlibDeprecationWarning: \n",
      "The tick2On function was deprecated in Matplotlib 3.1 and will be removed in 3.3. Use Tick.tick2line.set_visible instead.\n",
      "  t.tick2On = False\n"
     ]
    },
    {
     "data": {
      "image/png": "[encoded data removed]",
      "text/plain": [
       "<Figure size 648x648 with 1 Axes>"
      ]
     },
     "metadata": {
      "needs_background": "light"
     },
     "output_type": "display_data"
    }
   ],
   "source": [
    "import confusion_matrix\n",
    "\n",
    "confusion_matrix.plot_confusion_matrix_from_data(truth, np.round(prediction)[:,0], cmap=\"Oranges\", figsize=[9,9], columns=[\"non_face\", \"face\"])"
   ]
  },
  {
   "cell_type": "code",
   "execution_count": null,
   "metadata": {},
   "outputs": [],
   "source": []
  }
 ],
 "metadata": {
  "kernelspec": {
   "display_name": "Python 3",
   "language": "python",
   "name": "python3"
  },
  "language_info": {
   "codemirror_mode": {
    "name": "ipython",
    "version": 3
   },
   "file_extension": ".py",
   "mimetype": "text/x-python",
   "name": "python",
   "nbconvert_exporter": "python",
   "pygments_lexer": "ipython3",
   "version": "3.7.4"
  }
 },
 "nbformat": 4,
 "nbformat_minor": 4
}
